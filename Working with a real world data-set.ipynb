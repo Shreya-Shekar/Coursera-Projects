{
    "cells": [
        {
            "cell_type": "code",
            "execution_count": 1,
            "metadata": {},
            "outputs": [
                {
                    "name": "stdout",
                    "output_type": "stream",
                    "text": "/opt/conda/envs/Python-3.7-main/lib/python3.7/site-packages/secretstorage/dhcrypto.py:16: CryptographyDeprecationWarning: int_from_bytes is deprecated, use int.from_bytes instead\n  from cryptography.utils import int_from_bytes\n/opt/conda/envs/Python-3.7-main/lib/python3.7/site-packages/secretstorage/util.py:25: CryptographyDeprecationWarning: int_from_bytes is deprecated, use int.from_bytes instead\n  from cryptography.utils import int_from_bytes\nRequirement already satisfied: ipython-sql in /opt/conda/envs/Python-3.7-main/lib/python3.7/site-packages (0.4.0)\nRequirement already satisfied: ipython>=1.0 in /opt/conda/envs/Python-3.7-main/lib/python3.7/site-packages (from ipython-sql) (7.15.0)\nRequirement already satisfied: ipython-genutils>=0.1.0 in /opt/conda/envs/Python-3.7-main/lib/python3.7/site-packages (from ipython-sql) (0.2.0)\nRequirement already satisfied: sqlparse in /opt/conda/envs/Python-3.7-main/lib/python3.7/site-packages (from ipython-sql) (0.4.1)\nRequirement already satisfied: prettytable<1 in /opt/conda/envs/Python-3.7-main/lib/python3.7/site-packages (from ipython-sql) (0.7.2)\nRequirement already satisfied: sqlalchemy>=0.6.7 in /opt/conda/envs/Python-3.7-main/lib/python3.7/site-packages (from ipython-sql) (1.3.9)\nRequirement already satisfied: six in /opt/conda/envs/Python-3.7-main/lib/python3.7/site-packages (from ipython-sql) (1.15.0)\nRequirement already satisfied: backcall in /opt/conda/envs/Python-3.7-main/lib/python3.7/site-packages (from ipython>=1.0->ipython-sql) (0.2.0)\nRequirement already satisfied: prompt-toolkit!=3.0.0,!=3.0.1,<3.1.0,>=2.0.0 in /opt/conda/envs/Python-3.7-main/lib/python3.7/site-packages (from ipython>=1.0->ipython-sql) (3.0.5)\nRequirement already satisfied: pygments in /opt/conda/envs/Python-3.7-main/lib/python3.7/site-packages (from ipython>=1.0->ipython-sql) (2.6.1)\nRequirement already satisfied: jedi>=0.10 in /opt/conda/envs/Python-3.7-main/lib/python3.7/site-packages (from ipython>=1.0->ipython-sql) (0.17.1)\nRequirement already satisfied: pickleshare in /opt/conda/envs/Python-3.7-main/lib/python3.7/site-packages (from ipython>=1.0->ipython-sql) (0.7.5)\nRequirement already satisfied: setuptools>=18.5 in /opt/conda/envs/Python-3.7-main/lib/python3.7/site-packages (from ipython>=1.0->ipython-sql) (47.3.1.post20200622)\nRequirement already satisfied: decorator in /opt/conda/envs/Python-3.7-main/lib/python3.7/site-packages (from ipython>=1.0->ipython-sql) (4.4.2)\nRequirement already satisfied: pexpect; sys_platform != \"win32\" in /opt/conda/envs/Python-3.7-main/lib/python3.7/site-packages (from ipython>=1.0->ipython-sql) (4.8.0)\nRequirement already satisfied: traitlets>=4.2 in /opt/conda/envs/Python-3.7-main/lib/python3.7/site-packages (from ipython>=1.0->ipython-sql) (4.3.3)\nRequirement already satisfied: wcwidth in /opt/conda/envs/Python-3.7-main/lib/python3.7/site-packages (from prompt-toolkit!=3.0.0,!=3.0.1,<3.1.0,>=2.0.0->ipython>=1.0->ipython-sql) (0.2.4)\nRequirement already satisfied: parso<0.8.0,>=0.7.0 in /opt/conda/envs/Python-3.7-main/lib/python3.7/site-packages (from jedi>=0.10->ipython>=1.0->ipython-sql) (0.7.0)\nRequirement already satisfied: ptyprocess>=0.5 in /opt/conda/envs/Python-3.7-main/lib/python3.7/site-packages (from pexpect; sys_platform != \"win32\"->ipython>=1.0->ipython-sql) (0.6.0)\n/opt/conda/envs/Python-3.7-main/lib/python3.7/site-packages/secretstorage/dhcrypto.py:16: CryptographyDeprecationWarning: int_from_bytes is deprecated, use int.from_bytes instead\n  from cryptography.utils import int_from_bytes\n/opt/conda/envs/Python-3.7-main/lib/python3.7/site-packages/secretstorage/util.py:25: CryptographyDeprecationWarning: int_from_bytes is deprecated, use int.from_bytes instead\n  from cryptography.utils import int_from_bytes\nRequirement already satisfied: ibm_db in /opt/conda/envs/Python-3.7-main/lib/python3.7/site-packages (3.0.2)\n/opt/conda/envs/Python-3.7-main/lib/python3.7/site-packages/secretstorage/dhcrypto.py:16: CryptographyDeprecationWarning: int_from_bytes is deprecated, use int.from_bytes instead\n  from cryptography.utils import int_from_bytes\n/opt/conda/envs/Python-3.7-main/lib/python3.7/site-packages/secretstorage/util.py:25: CryptographyDeprecationWarning: int_from_bytes is deprecated, use int.from_bytes instead\n  from cryptography.utils import int_from_bytes\nRequirement already satisfied: ibm_db_sa in /opt/conda/envs/Python-3.7-main/lib/python3.7/site-packages (0.3.5)\nRequirement already satisfied: sqlalchemy>=0.7.3 in /opt/conda/envs/Python-3.7-main/lib/python3.7/site-packages (from ibm_db_sa) (1.3.9)\nRequirement already satisfied: ibm-db>=2.0.0 in /opt/conda/envs/Python-3.7-main/lib/python3.7/site-packages (from ibm_db_sa) (3.0.2)\n/opt/conda/envs/Python-3.7-main/lib/python3.7/site-packages/secretstorage/dhcrypto.py:16: CryptographyDeprecationWarning: int_from_bytes is deprecated, use int.from_bytes instead\n  from cryptography.utils import int_from_bytes\n/opt/conda/envs/Python-3.7-main/lib/python3.7/site-packages/secretstorage/util.py:25: CryptographyDeprecationWarning: int_from_bytes is deprecated, use int.from_bytes instead\n  from cryptography.utils import int_from_bytes\nRequirement already satisfied: sqlalchemy==1.3.9 in /opt/conda/envs/Python-3.7-main/lib/python3.7/site-packages (1.3.9)\n"
                }
            ],
            "source": "!pip install ipython-sql\n!pip install ibm_db \n!pip install ibm_db_sa\n!pip install sqlalchemy==1.3.9\n"
        },
        {
            "cell_type": "code",
            "execution_count": 2,
            "metadata": {},
            "outputs": [
                {
                    "name": "stdout",
                    "output_type": "stream",
                    "text": "/opt/conda/envs/Python-3.7-main/lib/python3.7/site-packages/secretstorage/dhcrypto.py:16: CryptographyDeprecationWarning: int_from_bytes is deprecated, use int.from_bytes instead\n  from cryptography.utils import int_from_bytes\n/opt/conda/envs/Python-3.7-main/lib/python3.7/site-packages/secretstorage/util.py:25: CryptographyDeprecationWarning: int_from_bytes is deprecated, use int.from_bytes instead\n  from cryptography.utils import int_from_bytes\nRequirement already satisfied: ipython-sql in /opt/conda/envs/Python-3.7-main/lib/python3.7/site-packages (0.4.0)\nRequirement already satisfied: ipython-genutils>=0.1.0 in /opt/conda/envs/Python-3.7-main/lib/python3.7/site-packages (from ipython-sql) (0.2.0)\nRequirement already satisfied: sqlparse in /opt/conda/envs/Python-3.7-main/lib/python3.7/site-packages (from ipython-sql) (0.4.1)\nRequirement already satisfied: prettytable<1 in /opt/conda/envs/Python-3.7-main/lib/python3.7/site-packages (from ipython-sql) (0.7.2)\nRequirement already satisfied: sqlalchemy>=0.6.7 in /opt/conda/envs/Python-3.7-main/lib/python3.7/site-packages (from ipython-sql) (1.3.9)\nRequirement already satisfied: ipython>=1.0 in /opt/conda/envs/Python-3.7-main/lib/python3.7/site-packages (from ipython-sql) (7.15.0)\nRequirement already satisfied: six in /opt/conda/envs/Python-3.7-main/lib/python3.7/site-packages (from ipython-sql) (1.15.0)\nRequirement already satisfied: pexpect; sys_platform != \"win32\" in /opt/conda/envs/Python-3.7-main/lib/python3.7/site-packages (from ipython>=1.0->ipython-sql) (4.8.0)\nRequirement already satisfied: prompt-toolkit!=3.0.0,!=3.0.1,<3.1.0,>=2.0.0 in /opt/conda/envs/Python-3.7-main/lib/python3.7/site-packages (from ipython>=1.0->ipython-sql) (3.0.5)\nRequirement already satisfied: backcall in /opt/conda/envs/Python-3.7-main/lib/python3.7/site-packages (from ipython>=1.0->ipython-sql) (0.2.0)\nRequirement already satisfied: pickleshare in /opt/conda/envs/Python-3.7-main/lib/python3.7/site-packages (from ipython>=1.0->ipython-sql) (0.7.5)\nRequirement already satisfied: decorator in /opt/conda/envs/Python-3.7-main/lib/python3.7/site-packages (from ipython>=1.0->ipython-sql) (4.4.2)\nRequirement already satisfied: traitlets>=4.2 in /opt/conda/envs/Python-3.7-main/lib/python3.7/site-packages (from ipython>=1.0->ipython-sql) (4.3.3)\nRequirement already satisfied: jedi>=0.10 in /opt/conda/envs/Python-3.7-main/lib/python3.7/site-packages (from ipython>=1.0->ipython-sql) (0.17.1)\nRequirement already satisfied: pygments in /opt/conda/envs/Python-3.7-main/lib/python3.7/site-packages (from ipython>=1.0->ipython-sql) (2.6.1)\nRequirement already satisfied: setuptools>=18.5 in /opt/conda/envs/Python-3.7-main/lib/python3.7/site-packages (from ipython>=1.0->ipython-sql) (47.3.1.post20200622)\nRequirement already satisfied: ptyprocess>=0.5 in /opt/conda/envs/Python-3.7-main/lib/python3.7/site-packages (from pexpect; sys_platform != \"win32\"->ipython>=1.0->ipython-sql) (0.6.0)\nRequirement already satisfied: wcwidth in /opt/conda/envs/Python-3.7-main/lib/python3.7/site-packages (from prompt-toolkit!=3.0.0,!=3.0.1,<3.1.0,>=2.0.0->ipython>=1.0->ipython-sql) (0.2.4)\nRequirement already satisfied: parso<0.8.0,>=0.7.0 in /opt/conda/envs/Python-3.7-main/lib/python3.7/site-packages (from jedi>=0.10->ipython>=1.0->ipython-sql) (0.7.0)\nNote: you may need to restart the kernel to use updated packages.\n"
                }
            ],
            "source": "pip install ipython-sql"
        },
        {
            "cell_type": "code",
            "execution_count": 3,
            "metadata": {},
            "outputs": [],
            "source": "#import\n%load_ext sql"
        },
        {
            "cell_type": "code",
            "execution_count": 4,
            "metadata": {},
            "outputs": [],
            "source": "# Enter the connection string for your Db2 on Cloud database instance below\n# %sql ibm_db_sa://my-username:my-password@my-hostname:my-port/my-db-name\n%sql ibm_db_sa://kkf67143:f6pg5zfzjsxbpc^6@dashdb-txn-sbox-yp-lon02-02.services.eu-gb.bluemix.net:50000/BLUDB"
        },
        {
            "cell_type": "markdown",
            "metadata": {},
            "source": "Problem 1: Find the total number of crimes recorded in the CRIME table."
        },
        {
            "cell_type": "code",
            "execution_count": 5,
            "metadata": {},
            "outputs": [
                {
                    "name": "stdout",
                    "output_type": "stream",
                    "text": " * ibm_db_sa://kkf67143:***@dashdb-txn-sbox-yp-lon02-02.services.eu-gb.bluemix.net:50000/BLUDB\nDone.\n"
                },
                {
                    "data": {
                        "text/html": "<table>\n    <tr>\n        <th>1</th>\n    </tr>\n    <tr>\n        <td>533</td>\n    </tr>\n</table>",
                        "text/plain": "[(Decimal('533'),)]"
                    },
                    "execution_count": 5,
                    "metadata": {},
                    "output_type": "execute_result"
                }
            ],
            "source": "%%sql\nselect COUNT(*) from CHICAGO_CRIME"
        },
        {
            "cell_type": "markdown",
            "metadata": {},
            "source": "Problem 2: List community areas with per capita income less than 11000."
        },
        {
            "cell_type": "code",
            "execution_count": 6,
            "metadata": {},
            "outputs": [
                {
                    "name": "stdout",
                    "output_type": "stream",
                    "text": " * ibm_db_sa://kkf67143:***@dashdb-txn-sbox-yp-lon02-02.services.eu-gb.bluemix.net:50000/BLUDB\nDone.\n"
                },
                {
                    "data": {
                        "text/html": "<table>\n    <tr>\n        <th>community_area_name</th>\n    </tr>\n    <tr>\n        <td>West Garfield Park</td>\n    </tr>\n    <tr>\n        <td>South Lawndale</td>\n    </tr>\n    <tr>\n        <td>Fuller Park</td>\n    </tr>\n    <tr>\n        <td>Riverdale</td>\n    </tr>\n</table>",
                        "text/plain": "[('West Garfield Park',),\n ('South Lawndale',),\n ('Fuller Park',),\n ('Riverdale',)]"
                    },
                    "execution_count": 6,
                    "metadata": {},
                    "output_type": "execute_result"
                }
            ],
            "source": "%%sql\nselect COMMUNITY_AREA_NAME from CHICAGO_CENSUS where \"PER_CAPITA_INCOME\" < 11000"
        },
        {
            "cell_type": "markdown",
            "metadata": {},
            "source": "Problem 3: List all case numbers for crimes  involving minors(Note:Children are not considered minors for the purposes of crime analysis)?"
        },
        {
            "cell_type": "code",
            "execution_count": 7,
            "metadata": {},
            "outputs": [
                {
                    "name": "stdout",
                    "output_type": "stream",
                    "text": " * ibm_db_sa://kkf67143:***@dashdb-txn-sbox-yp-lon02-02.services.eu-gb.bluemix.net:50000/BLUDB\nDone.\n"
                },
                {
                    "data": {
                        "text/html": "<table>\n    <tr>\n        <th>case_number</th>\n    </tr>\n    <tr>\n        <td>HL266884</td>\n    </tr>\n    <tr>\n        <td>HK238408</td>\n    </tr>\n</table>",
                        "text/plain": "[('HL266884',), ('HK238408',)]"
                    },
                    "execution_count": 7,
                    "metadata": {},
                    "output_type": "execute_result"
                }
            ],
            "source": "%%sql\nselect CASE_NUMBER from CHICAGO_CRIME where DESCRIPTION like '%MINOR' "
        },
        {
            "cell_type": "markdown",
            "metadata": {},
            "source": "Problem 4: List all kidnapping crimes involving a child?"
        },
        {
            "cell_type": "code",
            "execution_count": 8,
            "metadata": {},
            "outputs": [
                {
                    "name": "stdout",
                    "output_type": "stream",
                    "text": " * ibm_db_sa://kkf67143:***@dashdb-txn-sbox-yp-lon02-02.services.eu-gb.bluemix.net:50000/BLUDB\nDone.\n"
                },
                {
                    "data": {
                        "text/html": "<table>\n    <tr>\n        <th>case_number</th>\n        <th>primary_type</th>\n        <th>description</th>\n    </tr>\n    <tr>\n        <td>HN144152</td>\n        <td>KIDNAPPING</td>\n        <td>CHILD ABDUCTION/STRANGER</td>\n    </tr>\n</table>",
                        "text/plain": "[('HN144152', 'KIDNAPPING', 'CHILD ABDUCTION/STRANGER')]"
                    },
                    "execution_count": 8,
                    "metadata": {},
                    "output_type": "execute_result"
                }
            ],
            "source": "%%sql\nselect CASE_NUMBER,PRIMARY_TYPE,DESCRIPTION\nfrom CHICAGO_CRIME\nwhere (DESCRIPTION like '%CHILD%' and PRIMARY_TYPE like '%KIDNAPPING')\n"
        },
        {
            "cell_type": "markdown",
            "metadata": {},
            "source": "Problem 5: What kind of crimes were recorded at schools?"
        },
        {
            "cell_type": "code",
            "execution_count": 9,
            "metadata": {},
            "outputs": [
                {
                    "name": "stdout",
                    "output_type": "stream",
                    "text": " * ibm_db_sa://kkf67143:***@dashdb-txn-sbox-yp-lon02-02.services.eu-gb.bluemix.net:50000/BLUDB\nDone.\n"
                },
                {
                    "data": {
                        "text/html": "<table>\n    <tr>\n        <th>primary_type</th>\n        <th>location_description</th>\n    </tr>\n    <tr>\n        <td>PUBLIC PEACE VI</td>\n        <td>SCHOOL, PRIVATE, BUILDING</td>\n    </tr>\n    <tr>\n        <td>BATTERY</td>\n        <td>SCHOOL, PUBLIC, BUILDING</td>\n    </tr>\n    <tr>\n        <td>NARCOTICS</td>\n        <td>SCHOOL, PUBLIC, BUILDING</td>\n    </tr>\n    <tr>\n        <td>PUBLIC PEACE VI</td>\n        <td>SCHOOL, PUBLIC, BUILDING</td>\n    </tr>\n    <tr>\n        <td>ASSAULT</td>\n        <td>SCHOOL, PUBLIC, GROUNDS</td>\n    </tr>\n    <tr>\n        <td>BATTERY</td>\n        <td>SCHOOL, PUBLIC, GROUNDS</td>\n    </tr>\n    <tr>\n        <td>CRIMINAL DAMAGE</td>\n        <td>SCHOOL, PUBLIC, GROUNDS</td>\n    </tr>\n    <tr>\n        <td>CRIMINAL TRESPA</td>\n        <td>SCHOOL, PUBLIC, GROUNDS</td>\n    </tr>\n    <tr>\n        <td>NARCOTICS</td>\n        <td>SCHOOL, PUBLIC, GROUNDS</td>\n    </tr>\n</table>",
                        "text/plain": "[('PUBLIC PEACE VI', 'SCHOOL, PRIVATE, BUILDING'),\n ('BATTERY', 'SCHOOL, PUBLIC, BUILDING'),\n ('NARCOTICS', 'SCHOOL, PUBLIC, BUILDING'),\n ('PUBLIC PEACE VI', 'SCHOOL, PUBLIC, BUILDING'),\n ('ASSAULT', 'SCHOOL, PUBLIC, GROUNDS'),\n ('BATTERY', 'SCHOOL, PUBLIC, GROUNDS'),\n ('CRIMINAL DAMAGE', 'SCHOOL, PUBLIC, GROUNDS'),\n ('CRIMINAL TRESPA', 'SCHOOL, PUBLIC, GROUNDS'),\n ('NARCOTICS', 'SCHOOL, PUBLIC, GROUNDS')]"
                    },
                    "execution_count": 9,
                    "metadata": {},
                    "output_type": "execute_result"
                }
            ],
            "source": "%%sql\nselect DISTINCT PRIMARY_TYPE,LOCATION_DESCRIPTION\nfrom CHICAGO_CRIME\nwhere LOCATION_DESCRIPTION like '%SCHOOL%'"
        },
        {
            "cell_type": "markdown",
            "metadata": {},
            "source": "Problem 6: List the average safety score for all types of schools."
        },
        {
            "cell_type": "code",
            "execution_count": 10,
            "metadata": {},
            "outputs": [
                {
                    "name": "stdout",
                    "output_type": "stream",
                    "text": " * ibm_db_sa://kkf67143:***@dashdb-txn-sbox-yp-lon02-02.services.eu-gb.bluemix.net:50000/BLUDB\nDone.\n"
                },
                {
                    "data": {
                        "text/html": "<table>\n    <tr>\n        <th>Elementary, Middle, or High School</th>\n        <th>avg_safety_score</th>\n    </tr>\n    <tr>\n        <td>ES</td>\n        <td>49.520383</td>\n    </tr>\n    <tr>\n        <td>HS</td>\n        <td>49.623529</td>\n    </tr>\n    <tr>\n        <td>MS</td>\n        <td>48.000000</td>\n    </tr>\n</table>",
                        "text/plain": "[('ES', Decimal('49.520383')),\n ('HS', Decimal('49.623529')),\n ('MS', Decimal('48.000000'))]"
                    },
                    "execution_count": 10,
                    "metadata": {},
                    "output_type": "execute_result"
                }
            ],
            "source": "%%sql\nselect \"Elementary, Middle, or High School\",avg(SAFETY_SCORE) as avg_safety_score\nfrom CHICAGO_SCHOOLS\nGROUP BY \"Elementary, Middle, or High School\""
        },
        {
            "cell_type": "markdown",
            "metadata": {},
            "source": "Problem 7: List 5 community areas with highest % of households below poverty line."
        },
        {
            "cell_type": "code",
            "execution_count": 11,
            "metadata": {},
            "outputs": [
                {
                    "name": "stdout",
                    "output_type": "stream",
                    "text": " * ibm_db_sa://kkf67143:***@dashdb-txn-sbox-yp-lon02-02.services.eu-gb.bluemix.net:50000/BLUDB\nDone.\n"
                },
                {
                    "data": {
                        "text/html": "<table>\n    <tr>\n        <th>community_area_name</th>\n        <th>percent_households_below_poverty</th>\n    </tr>\n    <tr>\n        <td>Riverdale</td>\n        <td>56.5</td>\n    </tr>\n    <tr>\n        <td>Fuller Park</td>\n        <td>51.2</td>\n    </tr>\n    <tr>\n        <td>Englewood</td>\n        <td>46.6</td>\n    </tr>\n    <tr>\n        <td>North Lawndale</td>\n        <td>43.1</td>\n    </tr>\n    <tr>\n        <td>East Garfield Park</td>\n        <td>42.4</td>\n    </tr>\n</table>",
                        "text/plain": "[('Riverdale', Decimal('56.5')),\n ('Fuller Park', Decimal('51.2')),\n ('Englewood', Decimal('46.6')),\n ('North Lawndale', Decimal('43.1')),\n ('East Garfield Park', Decimal('42.4'))]"
                    },
                    "execution_count": 11,
                    "metadata": {},
                    "output_type": "execute_result"
                }
            ],
            "source": "%%sql\nselect COMMUNITY_AREA_NAME,PERCENT_HOUSEHOLDS_BELOW_POVERTY\nfrom CHICAGO_CENSUS\norder by PERCENT_HOUSEHOLDS_BELOW_POVERTY desc limit 5"
        },
        {
            "cell_type": "markdown",
            "metadata": {},
            "source": "Problem 8: Which community area(number) is most crime prone?"
        },
        {
            "cell_type": "code",
            "execution_count": 12,
            "metadata": {},
            "outputs": [
                {
                    "name": "stdout",
                    "output_type": "stream",
                    "text": " * ibm_db_sa://kkf67143:***@dashdb-txn-sbox-yp-lon02-02.services.eu-gb.bluemix.net:50000/BLUDB\nDone.\n"
                },
                {
                    "data": {
                        "text/html": "<table>\n    <tr>\n        <th>community_area_number</th>\n        <th>crime_count</th>\n    </tr>\n    <tr>\n        <td>25</td>\n        <td>43</td>\n    </tr>\n</table>",
                        "text/plain": "[(25, Decimal('43'))]"
                    },
                    "execution_count": 12,
                    "metadata": {},
                    "output_type": "execute_result"
                }
            ],
            "source": "%%sql\nselect community_area_number,count(community_area_number) as crime_count\nfrom CHICAGO_CRIME\ngroup by community_area_number\norder by crime_count desc nulls last limit 1"
        },
        {
            "cell_type": "markdown",
            "metadata": {},
            "source": "Problem 9: Use a sub-query to find the name of the community area with highest hardship index."
        },
        {
            "cell_type": "code",
            "execution_count": 13,
            "metadata": {},
            "outputs": [
                {
                    "name": "stdout",
                    "output_type": "stream",
                    "text": " * ibm_db_sa://kkf67143:***@dashdb-txn-sbox-yp-lon02-02.services.eu-gb.bluemix.net:50000/BLUDB\nDone.\n"
                },
                {
                    "data": {
                        "text/html": "<table>\n    <tr>\n        <th>community_area_name</th>\n        <th>hardship_index</th>\n    </tr>\n    <tr>\n        <td>Riverdale</td>\n        <td>98</td>\n    </tr>\n</table>",
                        "text/plain": "[('Riverdale', 98)]"
                    },
                    "execution_count": 13,
                    "metadata": {},
                    "output_type": "execute_result"
                }
            ],
            "source": "%%sql\nselect community_area_name, hardship_index \nfrom CHICAGO_CENSUS\nwhere hardship_index=(select max (hardship_index) from CHICAGO_CENSUS);\n"
        },
        {
            "cell_type": "markdown",
            "metadata": {},
            "source": "Problem 10: Use a sub-query to determine the Community Area Name with most number of crimes?"
        },
        {
            "cell_type": "code",
            "execution_count": 14,
            "metadata": {},
            "outputs": [
                {
                    "name": "stdout",
                    "output_type": "stream",
                    "text": " * ibm_db_sa://kkf67143:***@dashdb-txn-sbox-yp-lon02-02.services.eu-gb.bluemix.net:50000/BLUDB\nDone.\n"
                },
                {
                    "data": {
                        "text/html": "<table>\n    <tr>\n        <th>community_area_name</th>\n        <th>community_area_number</th>\n    </tr>\n    <tr>\n        <td>Austin</td>\n        <td>25</td>\n    </tr>\n</table>",
                        "text/plain": "[('Austin', 25)]"
                    },
                    "execution_count": 14,
                    "metadata": {},
                    "output_type": "execute_result"
                }
            ],
            "source": "%%sql\nselect cc.community_area_name,cc.community_area_number\nfrom CHICAGO_CENSUS cc\nwhere cc.community_area_number=(select ccc.community_area_number\n                               from CHICAGO_CRIME ccc\n                               group by ccc.community_area_number\n                               order by count (community_area_number) desc limit 1);"
        },
        {
            "cell_type": "code",
            "execution_count": null,
            "metadata": {},
            "outputs": [],
            "source": ""
        }
    ],
    "metadata": {
        "kernelspec": {
            "display_name": "Python 3.7",
            "language": "python",
            "name": "python3"
        },
        "language_info": {
            "codemirror_mode": {
                "name": "ipython",
                "version": 3
            },
            "file_extension": ".py",
            "mimetype": "text/x-python",
            "name": "python",
            "nbconvert_exporter": "python",
            "pygments_lexer": "ipython3",
            "version": "3.7.10"
        }
    },
    "nbformat": 4,
    "nbformat_minor": 1
}